{
  "nbformat": 4,
  "nbformat_minor": 0,
  "metadata": {
    "colab": {
      "provenance": [],
      "include_colab_link": true
    },
    "kernelspec": {
      "name": "python3",
      "display_name": "Python 3"
    },
    "language_info": {
      "name": "python"
    }
  },
  "cells": [
    {
      "cell_type": "markdown",
      "metadata": {
        "id": "view-in-github",
        "colab_type": "text"
      },
      "source": [
        "<a href=\"https://colab.research.google.com/github/jjcremer/NLP_Masters/blob/main/NLP202/nlp202_assignment1_1542248.ipynb\" target=\"_parent\"><img src=\"https://colab.research.google.com/assets/colab-badge.svg\" alt=\"Open In Colab\"/></a>"
      ]
    },
    {
      "cell_type": "code",
      "execution_count": null,
      "metadata": {
        "id": "lffFsqA8BbFV"
      },
      "outputs": [],
      "source": [
        "import torch\n",
        "from torchtext.legacy import data\n",
        "\n",
        "SEED = 1234\n",
        "\n",
        "torch.manual_seed(SEED)\n",
        "torch.backends.cudnn.deterministic = True\n",
        "\n",
        "TEXT = data.Field(tokenize = 'spacy',\n",
        "                  tokenizer_language = 'en_core_web_sm')\n",
        "LABEL = data.LabelField(dtype = torch.float)"
      ]
    },
    {
      "cell_type": "code",
      "source": [
        "from torchtext.legacy import datasets\n",
        "\n",
        "train_data, test_data = datasets.IMDB.splits(TEXT, LABEL)\n",
        "print(f'Number of training examples: {len(train_data)}')\n",
        "print(f'Number of testing examples: {len(test_data)}')\n",
        "print(vars(train_data.examples[0]))"
      ],
      "metadata": {
        "colab": {
          "base_uri": "https://localhost:8080/"
        },
        "id": "IatXWViqB3Pi",
        "outputId": "5bcd7d08-7497-4d2f-fa31-38c4f86f26aa"
      },
      "execution_count": null,
      "outputs": [
        {
          "output_type": "stream",
          "name": "stdout",
          "text": [
            "downloading aclImdb_v1.tar.gz\n"
          ]
        },
        {
          "output_type": "stream",
          "name": "stderr",
          "text": [
            "100%|██████████| 84.1M/84.1M [00:03<00:00, 21.9MB/s]\n"
          ]
        },
        {
          "output_type": "stream",
          "name": "stdout",
          "text": [
            "Number of training examples: 25000\n",
            "Number of testing examples: 25000\n",
            "{'text': ['Small', 'SPOILERS', 'alert', '!', '!', '!', '<', 'br', '/><br', '/>Good', 'movie', '...', 'VERY', 'good', 'movie', '.', 'And', 'I', \"'m\", 'surprised', 'to', 'say', 'that', 'myself', ',', 'because', 'I', \"'m\", 'not', 'a', 'big', 'fan', 'of', 'vampires', 'and', 'the', 'sound', 'of', 'the', 'director', \"'s\", 'name', 'Deran', 'Serafian', 'usually', 'means', 'bad', 'news', '.', 'Most', 'of', 'his', 'films', 'are', 'below', 'average', 'action', 'movies', 'like', 'Death', 'Warrant', 'and', 'Gunmen', '.', 'This', 'was', 'one', 'of', 'his', 'first', 'films', 'and', 'maybe', 'he', 'should', 'have', 'continued', 'making', 'horror', 'movies', 'instead', 'of', 'action', '.', 'This', 'movie', 'really', 'fascinated', 'me', '.', 'Good', 'accomplishment', ',', 'seeing', 'no', 'famous', 'actors', 'or', 'big', 'budget', 'was', 'involved', '.', 'It', 'really', 'is', 'the', 'story', 'that', 'keeps', 'you', 'focused', '.', 'Especially', 'fans', 'of', 'the', 'original', 'Dracula', 'myth', 'will', 'be', 'satisfied', '.', 'Sarafian', 'lights', 'up', 'another', 'aspect', 'of', 'the', 'famous', 'Bram', 'Stoker', 'story', 'and', 'remains', 'rather', 'loyal', 'and', 'true', 'to', 'the', 'truth', '.', 'It', 'explains', 'the', 'life', 'of', 'the', 'Roemenian', 'Count', 'Dracula', 'and', 'how', 'he', 'scared', 'the', 'Turkish', 'army', 'away', 'by', 'spearing', 'dead', 'corpses', 'in', 'front', 'of', 'his', 'castle', '.', 'Of', 'course', ',', 'that', \"'s\", 'where', 'the', 'reality', 'and', 'the', '\"', 'based', 'on', 'a', 'true', 'story', '\"', 'stops', '.', 'The', 'blood', 'drinking', 'and', 'stuff', 'all', 'was', 'invented', 'by', 'Bram', 'Stoker.<br', '/><br', '/>In', 'this', 'movie', ',', 'the', 'count', '(', 'Vlad', 'Teppish', ')', 'emigrates', 'to', 'the', 'USA', 'and', 'seduces', 'tons', 'of', 'woman', '.', 'And', 'they', \"'re\", 'all', 'pretty', 'girls', ',', 'I', \"'ll\", 'give', 'him', 'that', '.', 'Overall', ',', 'good', 'acting', 'by', 'unknown', 'faces', ',', 'enough', 'blood', 'and', 'gore', 'to', 'satisfy', 'the', 'more', 'morbid', 'horror', 'fans', 'and', 'an', 'interesting', 'storyline', '.', 'This', 'film', 'is', 'really', 'unknown', 'and', 'it', 'was', 'hidden', 'on', 'the', 'darkest', 'shelf', 'at', 'my', 'local', 'videostore', '.', 'But', 'it', 'certainly', 'is', 'worth', 'cleaning', 'up', 'the', 'dust', 'on', 'the', 'cover', 'and', 'put', 'it', 'in', 'the', 'VCR', '.', 'Heck', ',', 'it', \"'s\", 'a', 'lot', 'better', 'than', 'the', 'famous', 'Nicole', 'Kidman', 'movie', 'with', 'the', 'same', 'title', '.', 'These', 'two', 'films', 'have', 'nothing', 'else', 'in', 'common', ',', 'but', 'I', 'blame', 'that', 'movie', 'for', 'stealing', 'the', 'attention', 'away', 'from', 'this', 'nice', 'little', 'picture', '.', 'Check', 'it', 'out', '...', 'my', 'humble', 'opinion', 'on', 'To', 'Die', 'For', '=', '8.5/10'], 'label': 'pos'}\n"
          ]
        }
      ]
    },
    {
      "cell_type": "code",
      "source": [
        "import random\n",
        "import numpy as np\n",
        "device = torch.device('cuda' if torch.cuda.is_available() else 'cpu')\n",
        "\n",
        "train_data, valid_data = train_data.split(random_state = random.seed(SEED))\n",
        "print(f'Number of training examples: {len(train_data)}')\n",
        "print(f'Number of validation examples: {len(valid_data)}')\n",
        "print(f'Number of testing examples: {len(test_data)}')"
      ],
      "metadata": {
        "colab": {
          "base_uri": "https://localhost:8080/"
        },
        "id": "4RnxEJ0RB3-J",
        "outputId": "540712de-64bb-4d5d-df27-a3bc2d021bb7"
      },
      "execution_count": null,
      "outputs": [
        {
          "output_type": "stream",
          "name": "stdout",
          "text": [
            "Number of training examples: 17500\n",
            "Number of validation examples: 7500\n",
            "Number of testing examples: 25000\n"
          ]
        }
      ]
    },
    {
      "cell_type": "code",
      "source": [
        "from torch.utils.data import DataLoader\n",
        "from functools import partial\n",
        "\n",
        "def custom_collate_func(batch, window_size, word_to_ix, label_to_ix):\n",
        "  #print(batch)\n",
        "  x, y = zip(*batch)\n",
        "\n",
        "  def pad_window(sentence, window_size, pad_token='<pad>'):\n",
        "    window = [pad_token] * window_size\n",
        "    return window + sentence + window\n",
        "  #x = [pad_window(s, window_size=window_size) for s in x]\n",
        "\n",
        "  def convert_token_to_indices(sentence, word_to_ix):\n",
        "    return [word_to_ix.get(token, word_to_ix['<unk>']) for token in sentence]\n",
        "\n",
        "  x = [convert_token_to_indices(s, word_to_ix) for s in x]\n",
        "\n",
        "  pad_token_ix = word_to_ix['<pad>']\n",
        "\n",
        "  lengths = [len(s) for s in x]\n",
        "  lengths = torch.LongTensor(lengths)\n",
        "\n",
        "  #print(x)\n",
        "  x = [torch.LongTensor(x_i) for x_i in x]\n",
        "  #x = torch.LongTensor(x)\n",
        "  #print('x is:', x)\n",
        "  x_padded = nn.utils.rnn.pad_sequence(x, batch_first=True, padding_value=pad_token_ix)\n",
        "  x_padded = x_padded.to('cuda')\n",
        "  #print('padded x is: ', x_padded)\n",
        "  #print(x_padded)\n",
        "\n",
        "  #print(y)\n",
        "  y = [label_to_ix.get(y_i) for y_i in y]\n",
        "  #print(y)\n",
        "  y = [y_i for y_i in y]\n",
        "  y = torch.FloatTensor(y)\n",
        "  #print(device)\n",
        "  y = y.to(device)\n",
        "  #print('is y saved to cuda?:', y.is_cuda)\n",
        "  #y_padded = nn.utils.rnn.pad_sequence(y, batch_first=True, padding_value=0)\n",
        "\n",
        "  return x_padded, y, lengths"
      ],
      "metadata": {
        "id": "wrxracLlI7Uc"
      },
      "execution_count": null,
      "outputs": []
    },
    {
      "cell_type": "code",
      "source": [
        "MAX_VOCAB_SIZE = 25_000\n",
        "print(train_data)\n",
        "TEXT.build_vocab(train_data, max_size = MAX_VOCAB_SIZE)\n",
        "LABEL.build_vocab(train_data)\n",
        "print(f\"Unique tokens in TEXT vocabulary: {len(TEXT.vocab)}\")\n",
        "print(f\"Unique tokens in LABEL vocabulary: {len(LABEL.vocab)}\")\n",
        "print(TEXT.vocab.freqs.most_common(20))\n",
        "print(TEXT.vocab.itos[:10])\n",
        "print(LABEL.vocab.stoi)\n",
        "print(device)\n",
        "# Do not use BucketIterator in your implementation because you are required to implement the padding and masking yourself.\n",
        "train_iterator, valid_iterator, test_iterator = data.BucketIterator.splits((train_data, valid_data, test_data), batch_size=1, device=device)"
      ],
      "metadata": {
        "colab": {
          "base_uri": "https://localhost:8080/",
          "height": 232
        },
        "id": "xtSufWSGB_bw",
        "outputId": "24bdf204-4dbc-4b7d-9b3a-a6ab8174e4d1"
      },
      "execution_count": null,
      "outputs": [
        {
          "output_type": "error",
          "ename": "NameError",
          "evalue": "ignored",
          "traceback": [
            "\u001b[0;31m---------------------------------------------------------------------------\u001b[0m",
            "\u001b[0;31mNameError\u001b[0m                                 Traceback (most recent call last)",
            "\u001b[0;32m<ipython-input-2-5b1391a3da6a>\u001b[0m in \u001b[0;36m<module>\u001b[0;34m()\u001b[0m\n\u001b[1;32m      1\u001b[0m \u001b[0mMAX_VOCAB_SIZE\u001b[0m \u001b[0;34m=\u001b[0m \u001b[0;36m25_000\u001b[0m\u001b[0;34m\u001b[0m\u001b[0;34m\u001b[0m\u001b[0m\n\u001b[0;32m----> 2\u001b[0;31m \u001b[0mprint\u001b[0m\u001b[0;34m(\u001b[0m\u001b[0mtrain_data\u001b[0m\u001b[0;34m)\u001b[0m\u001b[0;34m\u001b[0m\u001b[0;34m\u001b[0m\u001b[0m\n\u001b[0m\u001b[1;32m      3\u001b[0m \u001b[0mTEXT\u001b[0m\u001b[0;34m.\u001b[0m\u001b[0mbuild_vocab\u001b[0m\u001b[0;34m(\u001b[0m\u001b[0mtrain_data\u001b[0m\u001b[0;34m,\u001b[0m \u001b[0mmax_size\u001b[0m \u001b[0;34m=\u001b[0m \u001b[0mMAX_VOCAB_SIZE\u001b[0m\u001b[0;34m)\u001b[0m\u001b[0;34m\u001b[0m\u001b[0;34m\u001b[0m\u001b[0m\n\u001b[1;32m      4\u001b[0m \u001b[0mLABEL\u001b[0m\u001b[0;34m.\u001b[0m\u001b[0mbuild_vocab\u001b[0m\u001b[0;34m(\u001b[0m\u001b[0mtrain_data\u001b[0m\u001b[0;34m)\u001b[0m\u001b[0;34m\u001b[0m\u001b[0;34m\u001b[0m\u001b[0m\n\u001b[1;32m      5\u001b[0m \u001b[0mprint\u001b[0m\u001b[0;34m(\u001b[0m\u001b[0;34mf\"Unique tokens in TEXT vocabulary: {len(TEXT.vocab)}\"\u001b[0m\u001b[0;34m)\u001b[0m\u001b[0;34m\u001b[0m\u001b[0;34m\u001b[0m\u001b[0m\n",
            "\u001b[0;31mNameError\u001b[0m: name 'train_data' is not defined"
          ]
        }
      ]
    },
    {
      "cell_type": "code",
      "source": [
        "print(LABEL.vocab.stoi.get('pos'))\n",
        "#print(.voab)"
      ],
      "metadata": {
        "id": "GgNY8AzLsdSF"
      },
      "execution_count": null,
      "outputs": []
    },
    {
      "cell_type": "code",
      "source": [
        "#data = list(zip(train_sentence, train_labels))\n",
        "BATCH_SIZE = 13\n",
        "shuffle = False\n",
        "window_size = 2\n",
        "\n",
        "print(type(TEXT))\n",
        "collate_fn = partial(custom_collate_func, window_size=window_size, word_to_ix=TEXT.vocab.stoi, label_to_ix=LABEL.vocab.stoi)\n",
        "\n",
        "def examples_to_zip(data):\n",
        "  pairs = []\n",
        "  for example in data.examples:\n",
        "    pairs.append((example.text, example.label))\n",
        "  return pairs\n",
        "\n",
        "zipped_train_data = examples_to_zip(train_data)\n",
        "\n",
        "data_loader = DataLoader(zipped_train_data, batch_size=BATCH_SIZE, shuffle=shuffle, collate_fn=collate_fn)"
      ],
      "metadata": {
        "id": "BcF8ACYieQvB"
      },
      "execution_count": null,
      "outputs": []
    },
    {
      "cell_type": "code",
      "source": [
        "import torch.nn as nn\n",
        "\n",
        "class batchLR(nn.Module):\n",
        "    def __init__(self, input_dim, embedding_dim, output_dim):\n",
        "        super().__init__()\n",
        "        self.embedding = nn.Embedding(input_dim, embedding_dim)\n",
        "        self.fc = nn.Linear(embedding_dim, output_dim)\n",
        "    def forward(self, text, lengths=[]):\n",
        "        #text = text.numpy().tolist()\n",
        "        #text = [i for i in text]\n",
        "        #text = torch.tensor(text)\n",
        "        #print(text)\n",
        "        #print(text.shape)\n",
        "        embedded = self.embedding(text).sum(1)\n",
        "        #print(embedded.shape)\n",
        "        return self.fc(embedded).squeeze()#.sum(-1)"
      ],
      "metadata": {
        "id": "nI_gFLUXCEdY"
      },
      "execution_count": null,
      "outputs": []
    },
    {
      "cell_type": "code",
      "source": [
        "import torch.nn as nn\n",
        "\n",
        "class LR(nn.Module):\n",
        "    def __init__(self, input_dim, embedding_dim, output_dim):\n",
        "        super().__init__()\n",
        "        self.embedding = nn.Embedding(input_dim, embedding_dim)\n",
        "        self.fc = nn.Linear(embedding_dim, output_dim)\n",
        "    def forward(self, text):\n",
        "        embedded = self.embedding(text).sum(0).squeeze()\n",
        "        return self.fc(embedded)"
      ],
      "metadata": {
        "id": "tEO0C4-7gjUS"
      },
      "execution_count": null,
      "outputs": []
    },
    {
      "cell_type": "code",
      "source": [
        "class LSTM(nn.Module):\n",
        "    def __init__(self, input_dim, embedding_dim, hidden_dim, output_dim):\n",
        "        super().__init__()\n",
        "        self.embedding = nn.Embedding(input_dim, embedding_dim)\n",
        "        self.lstm = nn.LSTM(embedding_dim, hidden_dim, batch_first=True)\n",
        "        self.fc = nn.Linear(hidden_dim, output_dim)\n",
        "    def forward(self, text, lengths):\n",
        "        #text = text.numpy().tolist()\n",
        "        #text = [i for i in text]\n",
        "        #text = torch.tensor(text)\n",
        "        #print(text)\n",
        "        #print('Input Lengths: ', lengths.size())\n",
        "        #print('Device: ', text.is_cuda)\n",
        "        embedded = self.embedding(text)#.sum(1)#.squeeze()\n",
        "        #print('Generated Embeddings: ', embedded.size())\n",
        "        embedded_pack = nn.utils.rnn.pack_padded_sequence(embedded, lengths, batch_first=True, enforce_sorted=False)\n",
        "        #print('Packed Embeddings: ', embedded_pack.batch_sizes)\n",
        "        #print('Packed Embeddings unsorted: ', embedded_pack.unsorted_indices)\n",
        "        lstm_out, (ht, ct) = self.lstm(embedded_pack)\n",
        "        #print(embedded.shape)\n",
        "        # return self.fc(embedded)\n",
        "        #print('LSTM Output: ', ht[-1])\n",
        "        return self.fc(ht[-1])"
      ],
      "metadata": {
        "id": "TKQ_D9kvbYpq"
      },
      "execution_count": null,
      "outputs": []
    },
    {
      "cell_type": "code",
      "source": [
        "INPUT_DIM = len(TEXT.vocab)\n",
        "#print(INPUT_DIM)\n",
        "EMBEDDING_DIM = 100\n",
        "HIDDEN_DIM = 100\n",
        "OUTPUT_DIM = 1\n",
        "LEARNING_RATE = 0.9e-3\n",
        "\n",
        "#model = LSTM(INPUT_DIM, EMBEDDING_DIM, HIDDEN_DIM, OUTPUT_DIM)\n",
        "model = batchLR(INPUT_DIM, EMBEDDING_DIM, OUTPUT_DIM)"
      ],
      "metadata": {
        "id": "-lZ2obDVDmEl"
      },
      "execution_count": null,
      "outputs": []
    },
    {
      "cell_type": "code",
      "source": [
        "def count_parameters(model):\n",
        "    return sum(p.numel() for p in model.parameters() if p.requires_grad)\n",
        "\n",
        "print(f'The model has {count_parameters(model):,} trainable parameters')"
      ],
      "metadata": {
        "id": "eJ6_rLRuK2l7"
      },
      "execution_count": null,
      "outputs": []
    },
    {
      "cell_type": "code",
      "source": [
        "import torch.optim as optim\n",
        "\n",
        "optimizer = optim.SGD(model.parameters(), lr=LEARNING_RATE)"
      ],
      "metadata": {
        "id": "IbufnJzvLAlf"
      },
      "execution_count": null,
      "outputs": []
    },
    {
      "cell_type": "code",
      "source": [
        "criterion = nn.BCEWithLogitsLoss()"
      ],
      "metadata": {
        "id": "I1fHORT8LBOK"
      },
      "execution_count": null,
      "outputs": []
    },
    {
      "cell_type": "code",
      "source": [
        "model = model.to(device)\n",
        "#print(next(model.parameters()).is_cuda)\n",
        "#model_batch = model_batch.to(device)\n",
        "criterion = criterion.to(device)"
      ],
      "metadata": {
        "id": "z3gdBHHULC7y"
      },
      "execution_count": null,
      "outputs": []
    },
    {
      "cell_type": "code",
      "source": [
        "def binary_accuracy(preds, y):\n",
        "    \"\"\"\n",
        "    Returns accuracy per batch, i.e. if you get 8/10 right, this returns 0.8, NOT 8\n",
        "    \"\"\"\n",
        "\n",
        "    #round predictions to the closest integer\n",
        "    rounded_preds = torch.round(torch.sigmoid(preds))\n",
        "    correct = (rounded_preds == y).float() #convert into float for division \n",
        "    acc = correct.sum() / len(correct)\n",
        "    return acc"
      ],
      "metadata": {
        "id": "KF2EdETnLEwt"
      },
      "execution_count": null,
      "outputs": []
    },
    {
      "cell_type": "code",
      "source": [
        "from tqdm import tqdm\n",
        "def train(model, iterator, optimizer, criterion):\n",
        "    \n",
        "    epoch_loss = 0\n",
        "    epoch_acc = 0\n",
        "    \n",
        "    model.train()\n",
        "    \n",
        "    for instance in tqdm(iterator, desc=\"Training...\", total=len(iterator)):\n",
        "        \n",
        "        optimizer.zero_grad()\n",
        "                \n",
        "        predictions = model(instance.text)\n",
        "        #print(type(predictions))\n",
        "        #print(type(instance.label))\n",
        "        loss = criterion(predictions, instance.label)\n",
        "        \n",
        "        acc = binary_accuracy(predictions, instance.label)\n",
        "        \n",
        "        loss.backward()\n",
        "        \n",
        "        optimizer.step()\n",
        "        \n",
        "        epoch_loss += loss.item()\n",
        "        epoch_acc += acc.item()\n",
        "        \n",
        "    return epoch_loss / len(iterator), epoch_acc / len(iterator)"
      ],
      "metadata": {
        "id": "2o9l76H5LGm9"
      },
      "execution_count": null,
      "outputs": []
    },
    {
      "cell_type": "code",
      "source": [
        "from tqdm import tqdm\n",
        "def batch_train(model, loader, optimizer, criterion):\n",
        "    \n",
        "    epoch_loss = 0\n",
        "    epoch_acc = 0\n",
        "    \n",
        "    model.train()\n",
        "    \n",
        "    for batch_input, batch_labels, batch_lengths in tqdm(loader, desc=\"Training...\", total=len(loader)):\n",
        "        \n",
        "        optimizer.zero_grad()\n",
        "        #print(batch_input)\n",
        "        #batch_input = batch_input.view(batch_input.size(0), -1)\n",
        "\n",
        "        #print('input post view/size', torch.tensor(batch_input))\n",
        "        #batch_input.to('cuda')\n",
        "        #print('What the hell?', batch_input.is_cuda)\n",
        "        predictions = model(batch_input, batch_lengths)\n",
        "        #print(len(batch_input))\n",
        "        #print()\n",
        "        #print(len(batch_labels))\n",
        "        #print()\n",
        "        #print('Predictions: ')\n",
        "        #print(predictions)\n",
        "        #print('Labels: ')\n",
        "        #print(batch_labels)\n",
        "        #print(torch.Tensor.new_tensor(predictions))\n",
        "        #print('Huh:', batch_labels.size())\n",
        "        #if (predictions.size(0) == 1):\n",
        "        #  print(predictions.item())\n",
        "        #  predictions[0] = predictions.item()\n",
        "        loss = criterion(predictions, batch_labels)\n",
        "        \n",
        "        acc = binary_accuracy(predictions, batch_labels)\n",
        "        \n",
        "        loss.backward()\n",
        "        \n",
        "        optimizer.step()\n",
        "        \n",
        "        epoch_loss += loss.item()\n",
        "        epoch_acc += acc.item()\n",
        "        \n",
        "    \n",
        "    return epoch_loss / len(loader), epoch_acc / len(loader)"
      ],
      "metadata": {
        "id": "iZZ9zUQbjlCl"
      },
      "execution_count": null,
      "outputs": []
    },
    {
      "cell_type": "code",
      "source": [
        "#bla = next(iter(data_loader))\n",
        "#bla"
      ],
      "metadata": {
        "id": "sIaTWRufUN3j"
      },
      "execution_count": null,
      "outputs": []
    },
    {
      "cell_type": "code",
      "source": [
        "def evaluate(model, iterator, criterion):\n",
        "    \n",
        "    epoch_loss = 0\n",
        "    epoch_acc = 0\n",
        "    \n",
        "    model.eval()\n",
        "    \n",
        "    with torch.no_grad():\n",
        "    \n",
        "        for instance in iterator:\n",
        "\n",
        "            predictions = model(instance.text)\n",
        "            \n",
        "            loss = criterion(predictions, instance.label)\n",
        "            \n",
        "            acc = binary_accuracy(predictions, instance.label)\n",
        "\n",
        "            epoch_loss += loss.item()\n",
        "            epoch_acc += acc.item()\n",
        "        \n",
        "    return epoch_loss / len(iterator), epoch_acc / len(iterator)"
      ],
      "metadata": {
        "id": "bBwRhOrzLKSH"
      },
      "execution_count": null,
      "outputs": []
    },
    {
      "cell_type": "code",
      "source": [
        "def batch_evaluate(model, loader, criterion):\n",
        "    \n",
        "    epoch_loss = 0\n",
        "    epoch_acc = 0\n",
        "    \n",
        "    model.eval()\n",
        "    \n",
        "    with torch.no_grad():\n",
        "    \n",
        "        for batch_inputs, batch_labels, batch_lengths in loader:\n",
        "\n",
        "            predictions = model(batch_inputs, batch_lengths)\n",
        "            \n",
        "            loss = criterion(predictions, batch_labels)\n",
        "            \n",
        "            acc = binary_accuracy(predictions, batch_labels)\n",
        "\n",
        "            epoch_loss += loss.item()\n",
        "            epoch_acc += acc.item()\n",
        "        \n",
        "    return epoch_loss / len(loader), epoch_acc / len(loader)"
      ],
      "metadata": {
        "id": "ln-5mpoOuIlc"
      },
      "execution_count": null,
      "outputs": []
    },
    {
      "cell_type": "code",
      "source": [
        "import time\n",
        "\n",
        "def epoch_time(start_time, end_time):\n",
        "    elapsed_time = end_time - start_time\n",
        "    elapsed_mins = int(elapsed_time / 60)\n",
        "    elapsed_secs = int(elapsed_time - (elapsed_mins * 60))\n",
        "    return elapsed_mins, elapsed_secs"
      ],
      "metadata": {
        "id": "FOHkN5P5LMtl"
      },
      "execution_count": null,
      "outputs": []
    },
    {
      "cell_type": "code",
      "source": [
        "N_EPOCHS = 11\n",
        "\n",
        "best_valid_loss = float('inf')\n",
        "\n",
        "for epoch in range(N_EPOCHS):\n",
        "\n",
        "    start_time = time.time()\n",
        "\n",
        "    #train_loss, train_acc = train(model, test_iterator, optimizer, criterion)\n",
        "    #valid_loss, valid_acc = evaluate(model, test_iterator, criterion)\n",
        "    \n",
        "    train_loss, train_acc = batch_train(model, data_loader, optimizer, criterion)\n",
        "    valid_loss, valid_acc = batch_evaluate(model, data_loader, criterion)\n",
        "    \n",
        "    end_time = time.time()\n",
        "\n",
        "    epoch_mins, epoch_secs = epoch_time(start_time, end_time)\n",
        "    \n",
        "    if valid_loss < best_valid_loss:\n",
        "        best_valid_loss = valid_loss\n",
        "        torch.save(model.state_dict(), 'tut1-model.pt')\n",
        "    \n",
        "    print(f'Epoch: {epoch+1:02} | Epoch Time: {epoch_mins}m {epoch_secs}s')\n",
        "    print(f'\\tTrain Loss: {train_loss:.3f} | Train Acc: {train_acc*100:.2f}%')\n",
        "    print(f'\\t Val. Loss: {valid_loss:.3f} |  Val. Acc: {valid_acc*100:.2f}%')"
      ],
      "metadata": {
        "id": "63EPftxxLOxH"
      },
      "execution_count": null,
      "outputs": []
    },
    {
      "cell_type": "code",
      "source": [
        "o_model = LR(INPUT_DIM, EMBEDDING_DIM, OUTPUT_DIM)\n",
        "o_model.to(device)\n",
        "\n",
        "o_model.load_state_dict(torch.load('tut1-model.pt'))\n",
        "\n",
        "test_loss, test_acc = batch_evaluate(o_model, test_iterator, criterion)\n",
        "\n",
        "print(f'Test Loss: {test_loss:.3f} | Test Acc: {test_acc*100:.2f}%')"
      ],
      "metadata": {
        "id": "s2vQBjeTLTTv"
      },
      "execution_count": null,
      "outputs": []
    },
    {
      "cell_type": "code",
      "source": [
        "# Test of model correctness\n",
        "max_n_test_instances = 5\n",
        "i = 1\n",
        "for instance in valid_iterator:\n",
        "  score = model(instance.text)\n",
        "  print(score)\n",
        "  if i >= max_n_test_instances:\n",
        "    break\n",
        "  else:\n",
        "    i += 1\n"
      ],
      "metadata": {
        "id": "Ev4idwpONzs9"
      },
      "execution_count": null,
      "outputs": []
    }
  ]
}